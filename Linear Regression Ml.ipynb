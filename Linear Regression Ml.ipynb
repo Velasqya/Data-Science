{
 "cells": [
  {
   "cell_type": "code",
   "execution_count": 1,
   "metadata": {},
   "outputs": [],
   "source": [
    "# import required packages\n",
    "import pandas as pd\n",
    "\n",
    "import matplotlib.pyplot as plt\n",
    "import numpy as np\n",
    "import seaborn as sns\n",
    "import pylab as pl\n",
    "from sklearn.model_selection import train_test_split\n",
    "from sklearn.linear_model import LinearRegression\n",
    "from sklearn.metrics import mean_squared_error\n",
    "import math\n"
   ]
  },
  {
   "cell_type": "code",
   "execution_count": 2,
   "metadata": {},
   "outputs": [
    {
     "name": "stdout",
     "output_type": "stream",
     "text": [
      "MYCT : machine cycle time in ns (integer)\n",
      "MMIN : minimum main memory in Kb (integer)\n",
      "MMAX : maximum main memory in Kb (integer)\n",
      "CACH : cache memory in Kb (integer)\n",
      "CHMIN : minimum channels in units (integer)\n",
      "CHMAX : maximum channels in units (integer)\n",
      "class : published relative performance (integer)\n",
      "   MYCT  MMIN   MMAX  CACH  CHMIN  CHMAX  class\n",
      "0   125   256   6000   256     16    128    198\n",
      "1    29  8000  32000    32      8     32    269\n",
      "2    29  8000  32000    32      8     32    220\n",
      "3    29  8000  32000    32      8     32    172\n",
      "4    29  8000  16000    32      8     16    132\n",
      "              MYCT          MMIN          MMAX        CACH       CHMIN  \\\n",
      "count   209.000000    209.000000    209.000000  209.000000  209.000000   \n",
      "mean    203.822967   2867.980861  11796.153110   25.205742    4.698565   \n",
      "std     260.262926   3878.742758  11726.564377   40.628722    6.816274   \n",
      "min      17.000000     64.000000     64.000000    0.000000    0.000000   \n",
      "25%      50.000000    768.000000   4000.000000    0.000000    1.000000   \n",
      "50%     110.000000   2000.000000   8000.000000    8.000000    2.000000   \n",
      "75%     225.000000   4000.000000  16000.000000   32.000000    6.000000   \n",
      "max    1500.000000  32000.000000  64000.000000  256.000000   52.000000   \n",
      "\n",
      "            CHMAX        class  \n",
      "count  209.000000   209.000000  \n",
      "mean    18.267943   105.622010  \n",
      "std     25.997318   160.830733  \n",
      "min      0.000000     6.000000  \n",
      "25%      5.000000    27.000000  \n",
      "50%      8.000000    50.000000  \n",
      "75%     24.000000   113.000000  \n",
      "max    176.000000  1150.000000  \n"
     ]
    },
    {
     "data": {
      "text/plain": [
       "Text(0,0.5,'Performance')"
      ]
     },
     "execution_count": 2,
     "metadata": {},
     "output_type": "execute_result"
    },
    {
     "data": {
      "image/png": "[encoded data removed]",
      "text/plain": [
       "<Figure size 432x288 with 1 Axes>"
      ]
     },
     "metadata": {},
     "output_type": "display_data"
    }
   ],
   "source": [
    "metadata = {\n",
    "    'MYCT':'machine cycle time in ns (integer)',\n",
    "    'MMIN':'minimum main memory in Kb (integer)',\n",
    "    'MMAX':'maximum main memory in Kb (integer)',\n",
    "    'CACH':'cache memory in Kb (integer)',\n",
    "    'CHMIN':'minimum channels in units (integer)',\n",
    "    'CHMAX':'maximum channels in units (integer)',\n",
    "    'class':'published relative performance (integer)'\n",
    "}\n",
    "\n",
    "for k, v in metadata.items() :\n",
    "    print(k, ':', v)\n",
    "\n",
    "df = pd.read_csv('../dt/cpu.csv', header=14)\n",
    "\n",
    "print(df.head())\n",
    "print(df.describe())\n",
    "\n",
    "sns.scatterplot(x='MYCT', y='class', data = df)\n",
    "plt.title('Machine cycle vs Performance')\n",
    "plt.xlabel('Machine cycle in ns')\n",
    "plt.ylabel('Performance')\n",
    "#plt.show()"
   ]
  },
  {
   "cell_type": "code",
   "execution_count": 3,
   "metadata": {},
   "outputs": [
    {
     "name": "stdout",
     "output_type": "stream",
     "text": [
      "Coeff for MYCT : 0.0565\n",
      "Coeff for MMIN : 0.0166\n",
      "Coeff for MMAX : 0.0059\n",
      "Coeff for CACH : 0.5826\n",
      "Coeff for CHMIN : -0.7538\n",
      "Coeff for CHMAX : 1.5815\n",
      "Intercept: -66.16124542079896\n"
     ]
    }
   ],
   "source": [
    "\n",
    "# Creates a matrix X with all features, and a vector y with the\n",
    "# values of the attribute we are trying to predict (aka=class or label)\n",
    "X = df.drop('class', axis=1)\n",
    "y = df[['class']]\n",
    "\n",
    "# Splits X and y in 80-20% for training/testing\n",
    "X_train, X_test, y_train, y_test = train_test_split(X, y, test_size=0.33, random_state=1)\n",
    "\n",
    "# Creates an instance of Linear Regression (that's the model we\n",
    "# are using)\n",
    "regression_model = LinearRegression()\n",
    "\n",
    "# invokes the fit method with the training data\n",
    "regression_model.fit(X_train, y_train)\n",
    "\n",
    "# prints the coefficients (rounds to 4 decimals for clarity purposes)\n",
    "for i, col_name in enumerate(X_train.columns):\n",
    "    print(\"Coeff for {} : {}\".format(col_name, round(regression_model.coef_[0][i], 4)))\n",
    "\n",
    "# gets the intercept\n",
    "intercept = regression_model.intercept_[0]\n",
    "\n",
    "print(\"Intercept: {}\".format(intercept))"
   ]
  },
  {
   "cell_type": "code",
   "execution_count": 4,
   "metadata": {},
   "outputs": [],
   "source": [
    "# tests the model, by providing the test set and the  (matrix X_test)\n",
    "# true values for each class (vector y_test)\n",
    "regression_model.score(X_test, y_test)\n",
    "\n",
    "y_predict = regression_model.predict(X_test)"
   ]
  },
  {
   "cell_type": "code",
   "execution_count": 5,
   "metadata": {},
   "outputs": [
    {
     "name": "stdout",
     "output_type": "stream",
     "text": [
      "MSE:  53.50623511922984\n"
     ]
    }
   ],
   "source": [
    "# Now let's measure how our model performed by computing\n",
    "# the mean squared error, between the true values (y_test)\n",
    "# and the predicted values (y_predict)\n",
    "regression_model_mse = mean_squared_error(y_predict, y_test)\n",
    "\n",
    "print('MSE: ' , math.sqrt(regression_model_mse))\n",
    "\n",
    "#print(pd.DataFrame({'Actual': y_test, 'Predicted': y_predict}))"
   ]
  },
  {
   "cell_type": "code",
   "execution_count": 6,
   "metadata": {},
   "outputs": [
    {
     "name": "stdout",
     "output_type": "stream",
     "text": [
      "[[321.14891192]]\n"
     ]
    }
   ],
   "source": [
    "# Now let's try with an unkown new observation\n",
    "print(regression_model.predict([[29, 8000, 32000, 32, 8, 32]]))"
   ]
  },
  {
   "cell_type": "code",
   "execution_count": 7,
   "metadata": {},
   "outputs": [
    {
     "data": {
      "text/html": [
       "<div>\n",
       "<style scoped>\n",
       "    .dataframe tbody tr th:only-of-type {\n",
       "        vertical-align: middle;\n",
       "    }\n",
       "\n",
       "    .dataframe tbody tr th {\n",
       "        vertical-align: top;\n",
       "    }\n",
       "\n",
       "    .dataframe thead th {\n",
       "        text-align: right;\n",
       "    }\n",
       "</style>\n",
       "<table border=\"1\" class=\"dataframe\">\n",
       "  <thead>\n",
       "    <tr style=\"text-align: right;\">\n",
       "      <th></th>\n",
       "      <th>Testvalue</th>\n",
       "      <th>MSE</th>\n",
       "      <th>Intercept</th>\n",
       "      <th>MYCT</th>\n",
       "      <th>MMIN</th>\n",
       "      <th>MMAX</th>\n",
       "      <th>CACH</th>\n",
       "      <th>CHMIN</th>\n",
       "      <th>CHMAX</th>\n",
       "      <th>Predictions</th>\n",
       "    </tr>\n",
       "  </thead>\n",
       "  <tbody>\n",
       "    <tr>\n",
       "      <th>0</th>\n",
       "      <td>0.10</td>\n",
       "      <td>41.972723</td>\n",
       "      <td>-56.465471</td>\n",
       "      <td>0.048441</td>\n",
       "      <td>0.015471</td>\n",
       "      <td>0.005700</td>\n",
       "      <td>0.644533</td>\n",
       "      <td>-0.248733</td>\n",
       "      <td>1.450413</td>\n",
       "      <td>291.242271</td>\n",
       "    </tr>\n",
       "    <tr>\n",
       "      <th>1</th>\n",
       "      <td>0.20</td>\n",
       "      <td>60.762786</td>\n",
       "      <td>-63.009152</td>\n",
       "      <td>0.053471</td>\n",
       "      <td>0.016207</td>\n",
       "      <td>0.006034</td>\n",
       "      <td>0.491699</td>\n",
       "      <td>-0.543688</td>\n",
       "      <td>1.521904</td>\n",
       "      <td>293.517264</td>\n",
       "    </tr>\n",
       "    <tr>\n",
       "      <th>2</th>\n",
       "      <td>0.25</td>\n",
       "      <td>56.535135</td>\n",
       "      <td>-64.854611</td>\n",
       "      <td>0.056585</td>\n",
       "      <td>0.015922</td>\n",
       "      <td>0.006252</td>\n",
       "      <td>0.518105</td>\n",
       "      <td>-0.575071</td>\n",
       "      <td>1.469690</td>\n",
       "      <td>293.832686</td>\n",
       "    </tr>\n",
       "    <tr>\n",
       "      <th>3</th>\n",
       "      <td>0.30</td>\n",
       "      <td>55.083563</td>\n",
       "      <td>-64.739667</td>\n",
       "      <td>0.056383</td>\n",
       "      <td>0.016480</td>\n",
       "      <td>0.005938</td>\n",
       "      <td>0.588768</td>\n",
       "      <td>-0.783840</td>\n",
       "      <td>1.563799</td>\n",
       "      <td>284.676738</td>\n",
       "    </tr>\n",
       "    <tr>\n",
       "      <th>4</th>\n",
       "      <td>0.33</td>\n",
       "      <td>53.506235</td>\n",
       "      <td>-66.161245</td>\n",
       "      <td>0.056518</td>\n",
       "      <td>0.016632</td>\n",
       "      <td>0.005919</td>\n",
       "      <td>0.582600</td>\n",
       "      <td>-0.753840</td>\n",
       "      <td>1.581458</td>\n",
       "      <td>285.407504</td>\n",
       "    </tr>\n",
       "    <tr>\n",
       "      <th>5</th>\n",
       "      <td>0.35</td>\n",
       "      <td>54.887978</td>\n",
       "      <td>-67.395214</td>\n",
       "      <td>0.057012</td>\n",
       "      <td>0.015946</td>\n",
       "      <td>0.006318</td>\n",
       "      <td>0.586203</td>\n",
       "      <td>-1.039919</td>\n",
       "      <td>1.586223</td>\n",
       "      <td>282.201370</td>\n",
       "    </tr>\n",
       "  </tbody>\n",
       "</table>\n",
       "</div>"
      ],
      "text/plain": [
       "   Testvalue        MSE  Intercept      MYCT      MMIN      MMAX      CACH  \\\n",
       "0       0.10  41.972723 -56.465471  0.048441  0.015471  0.005700  0.644533   \n",
       "1       0.20  60.762786 -63.009152  0.053471  0.016207  0.006034  0.491699   \n",
       "2       0.25  56.535135 -64.854611  0.056585  0.015922  0.006252  0.518105   \n",
       "3       0.30  55.083563 -64.739667  0.056383  0.016480  0.005938  0.588768   \n",
       "4       0.33  53.506235 -66.161245  0.056518  0.016632  0.005919  0.582600   \n",
       "5       0.35  54.887978 -67.395214  0.057012  0.015946  0.006318  0.586203   \n",
       "\n",
       "      CHMIN     CHMAX  Predictions  \n",
       "0 -0.248733  1.450413   291.242271  \n",
       "1 -0.543688  1.521904   293.517264  \n",
       "2 -0.575071  1.469690   293.832686  \n",
       "3 -0.783840  1.563799   284.676738  \n",
       "4 -0.753840  1.581458   285.407504  \n",
       "5 -1.039919  1.586223   282.201370  "
      ]
     },
     "execution_count": 7,
     "metadata": {},
     "output_type": "execute_result"
    }
   ],
   "source": [
    "X = df.drop('class', axis=1)\n",
    "y = df[['class']]\n",
    "\n",
    "testValues = [.1, .2, .25, .3, .33, .35 ]\n",
    "\n",
    "cols = ['Testvalue', 'MSE','Intercept'] + list (X_train.columns.values) + ['Predictions']\n",
    "\n",
    "myData = pd.DataFrame(data=None, columns=cols)\n",
    "currentRow = []\n",
    "\n",
    "for currentSize in testValues:\n",
    "    X_train, X_test, y_train, y_test = train_test_split(X, y, test_size=currentSize, random_state=1)\n",
    "    regression_model = LinearRegression()\n",
    "    regression_model.fit(X_train, y_train)\n",
    "    \n",
    "    regression_model.score(X_test, y_test)\n",
    "    y_predict = regression_model.predict(X_test)\n",
    "    \n",
    "    regression_model_mse = mean_squared_error(y_predict, y_test)\n",
    "    \n",
    "    currentRow.append(currentSize)\n",
    "    \n",
    "    currentRow.append(math.sqrt(regression_model_mse))\n",
    "    \n",
    "    currentRow.append(regression_model.intercept_[0])\n",
    "    \n",
    "    for i, col_name in enumerate(X_train.columns):\n",
    "        currentRow.append(regression_model.coef_[0][i])\n",
    "    \n",
    "    currentRow.append(regression_model.predict([[29,8000,32000,3,33,32]]).item(0))\n",
    "    \n",
    "    myData = myData.append(pd.Series(currentRow, index=myData.columns), ignore_index=True)\n",
    "    \n",
    "    currentRow = []\n",
    "\n",
    "    \n",
    "myData\n",
    "    "
   ]
  },
  {
   "cell_type": "code",
   "execution_count": null,
   "metadata": {},
   "outputs": [],
   "source": []
  }
 ],
 "metadata": {
  "kernelspec": {
   "display_name": "Python 3",
   "language": "python",
   "name": "python3"
  },
  "language_info": {
   "codemirror_mode": {
    "name": "ipython",
    "version": 3
   },
   "file_extension": ".py",
   "mimetype": "text/x-python",
   "name": "python",
   "nbconvert_exporter": "python",
   "pygments_lexer": "ipython3",
   "version": "3.6.5"
  }
 },
 "nbformat": 4,
 "nbformat_minor": 2
}

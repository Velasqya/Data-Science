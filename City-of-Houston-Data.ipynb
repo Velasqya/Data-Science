{
 "cells": [
  {
   "cell_type": "markdown",
   "metadata": {},
   "source": [
    "# TrafficCounts OpenData\n",
    "### Custom License 8/10/2018\n",
    "### Spatial Dataset 8,221 Rows\n",
    "\n",
    "The City of Houston captures traffic activity and throughput through the use of traffic counts, which are turned into _Average Daily Traffic_ (ADT) counts estimates to provide approximate estimates of the utilization of a street. The City of Houston’s Public Works and Engineering Department is responsible for performing traffic counts through the Traffic Operations Division. Each point in the dataset is reflective of a location where a traffic count device was placed in order to measure the volume of traffic. Traffic count studies are performed:\n",
    "\n",
    "* **Proactively** through the year to assess street classifications assigned in the Major Thoroughfare & Freeway Plan (MTFP);\n",
    "* **Re-actively** in response to citizen concerns around speeding or to asset citizen requests for a speed control through the Neighborhood Traffic Management Program (MTMP); or,\n",
    "* **On an as needed basis** depending on construction or other considerations that would impact public safety on the roadways.\n",
    "\n",
    "Traffic counts in Houston are performed regularly throughout the year, unlike some other cities; as such, this dataset updates regularly. Users interested in ADT information should consult the metadata file for more information.\n",
    "\n",
    "## Load and describe data set\n"
   ]
  },
  {
   "cell_type": "code",
   "execution_count": 1,
   "metadata": {},
   "outputs": [
    {
     "name": "stdout",
     "output_type": "stream",
     "text": [
      "OBJECTID               int64\n",
      "SEGMENT               object\n",
      "ADT                    int64\n",
      "ID                     int64\n",
      "STREETNAME            object\n",
      "STREETADDRESS         object\n",
      "FILENAME              object\n",
      "PERCENTILESPEED85     object\n",
      "OUTCOME               object\n",
      "COLLECTIONTYPE        object\n",
      "X                    float64\n",
      "Y                    float64\n",
      "YEAR                   int64\n",
      "PRE_NTMP_ADT         float64\n",
      "POST_NTMP_ADT        float64\n",
      "PRE_NTMP_SPEED       float64\n",
      "POST_NTMP_SPEED      float64\n",
      "POINT_X              float64\n",
      "POINT_Y              float64\n",
      "dtype: object\n"
     ]
    },
    {
     "data": {
      "text/html": [
       "<div>\n",
       "<style scoped>\n",
       "    .dataframe tbody tr th:only-of-type {\n",
       "        vertical-align: middle;\n",
       "    }\n",
       "\n",
       "    .dataframe tbody tr th {\n",
       "        vertical-align: top;\n",
       "    }\n",
       "\n",
       "    .dataframe thead th {\n",
       "        text-align: right;\n",
       "    }\n",
       "</style>\n",
       "<table border=\"1\" class=\"dataframe\">\n",
       "  <thead>\n",
       "    <tr style=\"text-align: right;\">\n",
       "      <th></th>\n",
       "      <th>OBJECTID</th>\n",
       "      <th>ADT</th>\n",
       "      <th>ID</th>\n",
       "      <th>X</th>\n",
       "      <th>Y</th>\n",
       "      <th>YEAR</th>\n",
       "      <th>PRE_NTMP_ADT</th>\n",
       "      <th>POST_NTMP_ADT</th>\n",
       "      <th>PRE_NTMP_SPEED</th>\n",
       "      <th>POST_NTMP_SPEED</th>\n",
       "      <th>POINT_X</th>\n",
       "      <th>POINT_Y</th>\n",
       "    </tr>\n",
       "  </thead>\n",
       "  <tbody>\n",
       "    <tr>\n",
       "      <th>count</th>\n",
       "      <td>8367.000000</td>\n",
       "      <td>8367.000000</td>\n",
       "      <td>8367.000000</td>\n",
       "      <td>8.367000e+03</td>\n",
       "      <td>8.367000e+03</td>\n",
       "      <td>8367.000000</td>\n",
       "      <td>94.000000</td>\n",
       "      <td>246.000000</td>\n",
       "      <td>94.000000</td>\n",
       "      <td>246.000000</td>\n",
       "      <td>8367.000000</td>\n",
       "      <td>8367.000000</td>\n",
       "    </tr>\n",
       "    <tr>\n",
       "      <th>mean</th>\n",
       "      <td>4184.000000</td>\n",
       "      <td>10279.440301</td>\n",
       "      <td>4799.190988</td>\n",
       "      <td>3.109568e+06</td>\n",
       "      <td>1.383868e+07</td>\n",
       "      <td>2013.966655</td>\n",
       "      <td>265.617021</td>\n",
       "      <td>1216.743902</td>\n",
       "      <td>20.805319</td>\n",
       "      <td>28.620028</td>\n",
       "      <td>-95.403294</td>\n",
       "      <td>29.752404</td>\n",
       "    </tr>\n",
       "    <tr>\n",
       "      <th>std</th>\n",
       "      <td>2415.489184</td>\n",
       "      <td>9573.301631</td>\n",
       "      <td>2790.136514</td>\n",
       "      <td>2.862730e+04</td>\n",
       "      <td>2.633513e+04</td>\n",
       "      <td>2.293744</td>\n",
       "      <td>544.437228</td>\n",
       "      <td>1423.613819</td>\n",
       "      <td>80.699268</td>\n",
       "      <td>19.732763</td>\n",
       "      <td>0.090251</td>\n",
       "      <td>0.072388</td>\n",
       "    </tr>\n",
       "    <tr>\n",
       "      <th>min</th>\n",
       "      <td>1.000000</td>\n",
       "      <td>0.000000</td>\n",
       "      <td>2.000000</td>\n",
       "      <td>3.016782e+06</td>\n",
       "      <td>1.376339e+07</td>\n",
       "      <td>2007.000000</td>\n",
       "      <td>0.000000</td>\n",
       "      <td>104.000000</td>\n",
       "      <td>0.000000</td>\n",
       "      <td>20.000000</td>\n",
       "      <td>-95.694662</td>\n",
       "      <td>29.538248</td>\n",
       "    </tr>\n",
       "    <tr>\n",
       "      <th>25%</th>\n",
       "      <td>2092.500000</td>\n",
       "      <td>2803.000000</td>\n",
       "      <td>2360.500000</td>\n",
       "      <td>3.091396e+06</td>\n",
       "      <td>1.382814e+07</td>\n",
       "      <td>2012.000000</td>\n",
       "      <td>0.000000</td>\n",
       "      <td>312.250000</td>\n",
       "      <td>0.000000</td>\n",
       "      <td>25.500000</td>\n",
       "      <td>-95.460982</td>\n",
       "      <td>29.724615</td>\n",
       "    </tr>\n",
       "    <tr>\n",
       "      <th>50%</th>\n",
       "      <td>4184.000000</td>\n",
       "      <td>8355.000000</td>\n",
       "      <td>4790.000000</td>\n",
       "      <td>3.118298e+06</td>\n",
       "      <td>1.383886e+07</td>\n",
       "      <td>2014.000000</td>\n",
       "      <td>0.000000</td>\n",
       "      <td>657.000000</td>\n",
       "      <td>0.000000</td>\n",
       "      <td>27.000000</td>\n",
       "      <td>-95.375766</td>\n",
       "      <td>29.752115</td>\n",
       "    </tr>\n",
       "    <tr>\n",
       "      <th>75%</th>\n",
       "      <td>6275.500000</td>\n",
       "      <td>14924.500000</td>\n",
       "      <td>7238.500000</td>\n",
       "      <td>3.122924e+06</td>\n",
       "      <td>1.384667e+07</td>\n",
       "      <td>2016.000000</td>\n",
       "      <td>346.750000</td>\n",
       "      <td>1558.000000</td>\n",
       "      <td>25.800000</td>\n",
       "      <td>29.000000</td>\n",
       "      <td>-95.361012</td>\n",
       "      <td>29.774938</td>\n",
       "    </tr>\n",
       "    <tr>\n",
       "      <th>max</th>\n",
       "      <td>8367.000000</td>\n",
       "      <td>87529.000000</td>\n",
       "      <td>9584.000000</td>\n",
       "      <td>3.215575e+06</td>\n",
       "      <td>1.396225e+07</td>\n",
       "      <td>2018.000000</td>\n",
       "      <td>3394.000000</td>\n",
       "      <td>7846.000000</td>\n",
       "      <td>777.000000</td>\n",
       "      <td>333.000000</td>\n",
       "      <td>-95.076478</td>\n",
       "      <td>30.086616</td>\n",
       "    </tr>\n",
       "  </tbody>\n",
       "</table>\n",
       "</div>"
      ],
      "text/plain": [
       "          OBJECTID           ADT           ID             X             Y  \\\n",
       "count  8367.000000   8367.000000  8367.000000  8.367000e+03  8.367000e+03   \n",
       "mean   4184.000000  10279.440301  4799.190988  3.109568e+06  1.383868e+07   \n",
       "std    2415.489184   9573.301631  2790.136514  2.862730e+04  2.633513e+04   \n",
       "min       1.000000      0.000000     2.000000  3.016782e+06  1.376339e+07   \n",
       "25%    2092.500000   2803.000000  2360.500000  3.091396e+06  1.382814e+07   \n",
       "50%    4184.000000   8355.000000  4790.000000  3.118298e+06  1.383886e+07   \n",
       "75%    6275.500000  14924.500000  7238.500000  3.122924e+06  1.384667e+07   \n",
       "max    8367.000000  87529.000000  9584.000000  3.215575e+06  1.396225e+07   \n",
       "\n",
       "              YEAR  PRE_NTMP_ADT  POST_NTMP_ADT  PRE_NTMP_SPEED  \\\n",
       "count  8367.000000     94.000000     246.000000       94.000000   \n",
       "mean   2013.966655    265.617021    1216.743902       20.805319   \n",
       "std       2.293744    544.437228    1423.613819       80.699268   \n",
       "min    2007.000000      0.000000     104.000000        0.000000   \n",
       "25%    2012.000000      0.000000     312.250000        0.000000   \n",
       "50%    2014.000000      0.000000     657.000000        0.000000   \n",
       "75%    2016.000000    346.750000    1558.000000       25.800000   \n",
       "max    2018.000000   3394.000000    7846.000000      777.000000   \n",
       "\n",
       "       POST_NTMP_SPEED      POINT_X      POINT_Y  \n",
       "count       246.000000  8367.000000  8367.000000  \n",
       "mean         28.620028   -95.403294    29.752404  \n",
       "std          19.732763     0.090251     0.072388  \n",
       "min          20.000000   -95.694662    29.538248  \n",
       "25%          25.500000   -95.460982    29.724615  \n",
       "50%          27.000000   -95.375766    29.752115  \n",
       "75%          29.000000   -95.361012    29.774938  \n",
       "max         333.000000   -95.076478    30.086616  "
      ]
     },
     "execution_count": 1,
     "metadata": {},
     "output_type": "execute_result"
    }
   ],
   "source": [
    "from ipyleaflet import *\n",
    "from ipyleaflet import Map\n",
    "from ipywidgets import interact, interactive, fixed, interact_manual, widgets\n",
    "from IPython.display import display\n",
    "import seaborn as sns\n",
    "\n",
    "import pandas as pd\n",
    "import numpy as np\n",
    "import matplotlib.pyplot as plt\n",
    "\n",
    "# this magic makes plots in matplotlib to be displayed \"inside\" the jupyter notebook\n",
    "%matplotlib inline\n",
    "\n",
    "# reads data and stores in my_data as pandas.DataFrame\n",
    "my_data = pd.read_csv('../dt/TrafficCounts_OpenData_wm.csv')\n",
    "\n",
    "# First print the data types\n",
    "print(my_data.dtypes)\n",
    "\n",
    "# Second print descriptive statistics for numeric types\n",
    "my_data.describe()"
   ]
  },
  {
   "cell_type": "markdown",
   "metadata": {},
   "source": [
    "## Missing and inconsistent data\n",
    "\n",
    "### Missing data\n",
    "Quite often when working with data, some values could be: a) missing for a wide range of reasons, or b) encoded in different ways, even within the same dataset, or worse within the same feature value. For example:\n",
    "* no value (empty cell)\n",
    "* NaN, NA, NULL, or another convention\n",
    "* a value of 0 in a numeric feature\n",
    "\n",
    "### Inconsistent data\n",
    "Similarly, values for a feature could be inconsistent. For example:\n",
    "* a numeric value way below or above a reasonable range (e.g. temperature in a city = 1000)\n",
    "* different string values, for example, observations encoding the state of Texas as 'TX' 'Texas' 'texas' 'tx'\n",
    "\n",
    "Observing the table above, notice that the feature 'PERCENTILESPEED85' is not included; although it should be. After all, it is supposed to be of numeric type.\n",
    "\n",
    "In the output below that for 'PERCENTILESPEED85' feature, with the exception of 'nan', the rest of the values are float (for clarity purposes, only the first 5 entries in the array are included). Notice also, that numeric values are enclosed in ''; this means they are strings. On the other hand, for the feature 'POST_NTMP_SPEED', there is nan, followed by values, without '', which means they are floats!\n",
    "\n",
    "So how did this happen? After digging and investigating values in 'PERCENTILESPEED85', there are two observations labeled 'na', and that forces the rest of the values to be converted into string!\n"
   ]
  },
  {
   "cell_type": "code",
   "execution_count": 2,
   "metadata": {},
   "outputs": [
    {
     "name": "stdout",
     "output_type": "stream",
     "text": [
      "**** PERCENTILESPEED85\n",
      "[nan '0' '47.5' '1' '28.10']\n",
      "\n",
      "**** POST_NTMP_SPEED\n",
      "[ nan 27.2 31.5 33.4 22. ]\n"
     ]
    }
   ],
   "source": [
    "# This feature has inconsistent data\n",
    "print('**** PERCENTILESPEED85')\n",
    "print(my_data['PERCENTILESPEED85'].unique()[0:5])\n",
    "\n",
    "# This feature does not have inconsistent data\n",
    "print('\\n**** POST_NTMP_SPEED')\n",
    "print(my_data['POST_NTMP_SPEED'].unique()[0:5])"
   ]
  },
  {
   "cell_type": "markdown",
   "metadata": {},
   "source": [
    "However, these inconsistencies were not detected when loading the data, even when printing unique values for that feature. Here's a screen shot using Microsoft Excel and grouping by values. The 'na' value is shown almost at the bottom:\n",
    "\n",
    "![Excel Image ](../excel-screenshot.png)\n",
    "\n",
    "\n",
    "In this case, pandas doesn't handle the 'na' as missing value, but rather as a string, and this could impact subsequent analysis.\n",
    "\n",
    "Let's tweak this a littlbe bit and use the to_numeric() function.\n"
   ]
  },
  {
   "cell_type": "code",
   "execution_count": 3,
   "metadata": {
    "scrolled": true
   },
   "outputs": [
    {
     "name": "stdout",
     "output_type": "stream",
     "text": [
      "\n",
      "**** PERCENTILESPEED85\n",
      "[ nan  0.  47.5  1.  28.1]\n"
     ]
    }
   ],
   "source": [
    "# By using the pandas.to_numeric() function, we can read as numeric and handle missing values properly.\n",
    "# look here for more information about the errors argument, which can take the values {‘ignore’, ‘raise’, ‘coerce’}. \n",
    "# https://pandas.pydata.org/pandas-docs/stable/generated/pandas.to_numeric.html\n",
    "\n",
    "print('\\n**** PERCENTILESPEED85')\n",
    "print(pd.to_numeric(my_data['PERCENTILESPEED85'], errors='coerce').unique()[0:5])\n",
    "\n",
    "# Another solution would be to use the 'na_values' argument in the read_csv() function, e.g.\n",
    "# my_data = pd.read_csv('../dt/TrafficCounts_OpenData_wm.csv', na_values={'na','nan'})\n"
   ]
  },
  {
   "cell_type": "markdown",
   "metadata": {},
   "source": [
    "### Displaying a map"
   ]
  },
  {
   "cell_type": "code",
   "execution_count": 4,
   "metadata": {},
   "outputs": [
    {
     "data": {
      "application/vnd.jupyter.widget-view+json": {
       "model_id": "ee865f816cf245e0a4c152527c09d1f1",
       "version_major": 2,
       "version_minor": 0
      },
      "text/plain": [
       "Map(basemap={'url': 'https://{s}.tile.openstreetmap.org/{z}/{x}/{y}.png', 'max_zoom': 19, 'attribution': 'Map …"
      ]
     },
     "metadata": {},
     "output_type": "display_data"
    }
   ],
   "source": [
    "Map(center=[29.74770501 ,-95.39656199], zoom=25)\n"
   ]
  },
  {
   "cell_type": "code",
   "execution_count": 5,
   "metadata": {},
   "outputs": [
    {
     "data": {
      "application/vnd.jupyter.widget-view+json": {
       "model_id": "b633a1862a0a48ad94460321b642542d",
       "version_major": 2,
       "version_minor": 0
      },
      "text/plain": [
       "Dropdown(description='Select feature:', options=('PRE_NTMP_ADT', 'PERCENTILESPEED85', 'PRE_NTMP_ADT', 'POST_NT…"
      ]
     },
     "metadata": {},
     "output_type": "display_data"
    },
    {
     "data": {
      "application/vnd.jupyter.widget-view+json": {
       "model_id": "45080d2c4f8a4592ad6d6fe5a0aeaf08",
       "version_major": 2,
       "version_minor": 0
      },
      "text/plain": [
       "Dropdown(description='Select feature:', options=('PRE_NTMP_ADT', 'PERCENTILESPEED85', 'PRE_NTMP_ADT', 'POST_NT…"
      ]
     },
     "metadata": {},
     "output_type": "display_data"
    },
    {
     "data": {
      "application/vnd.jupyter.widget-view+json": {
       "model_id": "2ebc697c754a4903991ff8dd8996076a",
       "version_major": 2,
       "version_minor": 0
      },
      "text/plain": [
       "Button(description='Click to plot data', style=ButtonStyle())"
      ]
     },
     "metadata": {},
     "output_type": "display_data"
    }
   ],
   "source": [
    "\n",
    "#\n",
    "# Create interactive buttons for selecting options\n",
    "#\n",
    "# First, create a list with numeric lists\n",
    "columns = ['PRE_NTMP_ADT','PERCENTILESPEED85','PRE_NTMP_ADT','POST_NTMP_ADT','PRE_NTMP_SPEED','POST_NTMP_SPEED']\n",
    "\n",
    "# create a dropdown button, using those features as options, and display the button\n",
    "sel = widgets.Dropdown(description=\"Select feature:\")\n",
    "sel.options = columns\n",
    "display(sel)\n",
    "sel = widgets.Dropdown(description=\"Select feature:\")\n",
    "sel.options = columns\n",
    "display(sel)\n",
    "\n",
    "# define a call-back funtion that will be triggered when the button is clicked\n",
    "def on_button_clicked(b) :\n",
    "    sns.set_style(\"whitegrid\")\n",
    "    sns.set_context(rc={\"figure.figsize\": (120, 190)})\n",
    "    sns.barplot(x='POST_NTMP_ADT', y=sel.value, data=my_data, color='Green')\n",
    "\n",
    "# Create a new button to be clicked for plotting the data\n",
    "button = widgets.Button(description=\"Click to plot data\")    \n",
    "display(button)\n",
    "\n",
    "# Register a call back function to be triggered when the button is clicked\n",
    "button.on_click(on_button_clicked) \n",
    "\n",
    "\n"
   ]
  },
  {
   "cell_type": "code",
   "execution_count": 6,
   "metadata": {},
   "outputs": [
    {
     "data": {
      "application/vnd.jupyter.widget-view+json": {
       "model_id": "32f5609a5dba4762997d6b3d732be51c",
       "version_major": 2,
       "version_minor": 0
      },
      "text/plain": [
       "Dropdown(description='What year?', options=(2018, 2017, 2016, 2015, 2014, 2013, 2012, 2011, 2010, 2009, 2008, …"
      ]
     },
     "metadata": {},
     "output_type": "display_data"
    },
    {
     "data": {
      "application/vnd.jupyter.widget-view+json": {
       "model_id": "0392586e80b041e18f7907f93c411fee",
       "version_major": 2,
       "version_minor": 0
      },
      "text/plain": [
       "Button(description='Choose year', style=ButtonStyle())"
      ]
     },
     "metadata": {},
     "output_type": "display_data"
    }
   ],
   "source": [
    "# create a dropdown button with valid years to be selected\n",
    "sel_2 = widgets.Dropdown(description=\"What year?\")\n",
    "# values are selected \n",
    "sel_2.options = my_data.YEAR.sort_values(ascending=False).unique()\n",
    "display(sel_2)\n",
    "\n",
    "# define a call-back funtion that will be triggered when the button is clicked\n",
    "def on_year_clicked(y) :\n",
    "    # Here I'm just printing the types of different objects for debugging purposes\n",
    "    print(type(y))\n",
    "    print(type(sel_2.value))\n",
    "    print(sel_2.value)\n",
    "    print(sel.value)\n",
    "\n",
    "    # I'm chaining functions to the dataframe:\n",
    "    # 1) filter for year equal to the one selected in the drop down (given by sel_2.value)\n",
    "    # 2) filter values for the column given by the name selected in the drop down (sel.value)\n",
    "    # 3) include only values not null and different of 0\n",
    "    df = my_data[(my_data.YEAR == sel_2.value)].loc[(my_data[sel.value].notnull() & my_data[sel.value] != 0)]\n",
    "    sns.set_style(\"whitegrid\")\n",
    "    sns.set_context(rc={\"figure.figsize\": (12, 19)})\n",
    "    sns.barplot(x='YEAR', y=sel.value, data=df, color='Green')    \n",
    "\n",
    "# Create a new button to be clicked for plotting the data    \n",
    "year_button = widgets.Button(description=\"Choose year\")\n",
    "display(year_button)\n",
    "\n",
    "# Register a call back function to be triggered when the button is clicked\n",
    "year_button.on_click(on_year_clicked)\n",
    "\n",
    "# TODO: display scatterplots for two numeric variables"
   ]
  },
  {
   "cell_type": "markdown",
   "metadata": {},
   "source": [
    "### Get the top 5 streets by ADT value"
   ]
  },
  {
   "cell_type": "code",
   "execution_count": 7,
   "metadata": {},
   "outputs": [
    {
     "name": "stdout",
     "output_type": "stream",
     "text": [
      "        ADT  STREETNAME\n",
      "6035  87529        SH 6\n",
      "3482  76321        SH 6\n",
      "6286  74741  WESTHEIMER\n",
      "131   74553        SH 6\n",
      "3223  74077     FM 1960\n"
     ]
    }
   ],
   "source": [
    "my_data_1 = my_data[['ADT','STREETNAME']].sort_values('ADT', ascending=False).head(5)\n",
    "print(my_data_1)"
   ]
  },
  {
   "cell_type": "code",
   "execution_count": 8,
   "metadata": {},
   "outputs": [
    {
     "data": {
      "text/plain": [
       "<matplotlib.axes._subplots.AxesSubplot at 0x110a11550>"
      ]
     },
     "execution_count": 8,
     "metadata": {},
     "output_type": "execute_result"
    },
    {
     "data": {
      "image/png": "[encoded data removed]",
      "text/plain": [
       "<Figure size 432x288 with 1 Axes>"
      ]
     },
     "metadata": {},
     "output_type": "display_data"
    }
   ],
   "source": [
    "\n",
    "# plot a histogram\n",
    "my_data_1.plot.hist()\n",
    "\n"
   ]
  },
  {
   "cell_type": "code",
   "execution_count": 9,
   "metadata": {},
   "outputs": [
    {
     "name": "stdout",
     "output_type": "stream",
     "text": [
      "City-of-Houston-Data.ipynb  Trapezoid_Rule.ipynb\r\n",
      "Cool-data-example.ipynb     excel-screenshot.png\r\n",
      "Feature Ing Classwork.ipynb\r\n"
     ]
    }
   ],
   "source": [
    "# use the ! to execute operating system commands, e.g. ls, cat, cd, etc.\n",
    "!ls"
   ]
  },
  {
   "cell_type": "code",
   "execution_count": 10,
   "metadata": {},
   "outputs": [
    {
     "data": {
      "application/json": {
       "cell": {
        "!": "OSMagics",
        "HTML": "Other",
        "SVG": "Other",
        "bash": "Other",
        "capture": "ExecutionMagics",
        "debug": "ExecutionMagics",
        "file": "Other",
        "html": "DisplayMagics",
        "javascript": "DisplayMagics",
        "js": "DisplayMagics",
        "latex": "DisplayMagics",
        "markdown": "DisplayMagics",
        "perl": "Other",
        "prun": "ExecutionMagics",
        "pypy": "Other",
        "python": "Other",
        "python2": "Other",
        "python3": "Other",
        "ruby": "Other",
        "script": "ScriptMagics",
        "sh": "Other",
        "svg": "DisplayMagics",
        "sx": "OSMagics",
        "system": "OSMagics",
        "time": "ExecutionMagics",
        "timeit": "ExecutionMagics",
        "writefile": "OSMagics"
       },
       "line": {
        "alias": "OSMagics",
        "alias_magic": "BasicMagics",
        "autocall": "AutoMagics",
        "automagic": "AutoMagics",
        "autosave": "KernelMagics",
        "bookmark": "OSMagics",
        "cat": "Other",
        "cd": "OSMagics",
        "clear": "KernelMagics",
        "colors": "BasicMagics",
        "config": "ConfigMagics",
        "connect_info": "KernelMagics",
        "cp": "Other",
        "debug": "ExecutionMagics",
        "dhist": "OSMagics",
        "dirs": "OSMagics",
        "doctest_mode": "BasicMagics",
        "ed": "Other",
        "edit": "KernelMagics",
        "env": "OSMagics",
        "gui": "BasicMagics",
        "hist": "Other",
        "history": "HistoryMagics",
        "killbgscripts": "ScriptMagics",
        "ldir": "Other",
        "less": "KernelMagics",
        "lf": "Other",
        "lk": "Other",
        "ll": "Other",
        "load": "CodeMagics",
        "load_ext": "ExtensionMagics",
        "loadpy": "CodeMagics",
        "logoff": "LoggingMagics",
        "logon": "LoggingMagics",
        "logstart": "LoggingMagics",
        "logstate": "LoggingMagics",
        "logstop": "LoggingMagics",
        "ls": "Other",
        "lsmagic": "BasicMagics",
        "lx": "Other",
        "macro": "ExecutionMagics",
        "magic": "BasicMagics",
        "man": "KernelMagics",
        "matplotlib": "PylabMagics",
        "mkdir": "Other",
        "more": "KernelMagics",
        "mv": "Other",
        "notebook": "BasicMagics",
        "page": "BasicMagics",
        "pastebin": "CodeMagics",
        "pdb": "ExecutionMagics",
        "pdef": "NamespaceMagics",
        "pdoc": "NamespaceMagics",
        "pfile": "NamespaceMagics",
        "pinfo": "NamespaceMagics",
        "pinfo2": "NamespaceMagics",
        "pip": "BasicMagics",
        "popd": "OSMagics",
        "pprint": "BasicMagics",
        "precision": "BasicMagics",
        "profile": "BasicMagics",
        "prun": "ExecutionMagics",
        "psearch": "NamespaceMagics",
        "psource": "NamespaceMagics",
        "pushd": "OSMagics",
        "pwd": "OSMagics",
        "pycat": "OSMagics",
        "pylab": "PylabMagics",
        "qtconsole": "KernelMagics",
        "quickref": "BasicMagics",
        "recall": "HistoryMagics",
        "rehashx": "OSMagics",
        "reload_ext": "ExtensionMagics",
        "rep": "Other",
        "rerun": "HistoryMagics",
        "reset": "NamespaceMagics",
        "reset_selective": "NamespaceMagics",
        "rm": "Other",
        "rmdir": "Other",
        "run": "ExecutionMagics",
        "save": "CodeMagics",
        "sc": "OSMagics",
        "set_env": "OSMagics",
        "store": "StoreMagics",
        "sx": "OSMagics",
        "system": "OSMagics",
        "tb": "ExecutionMagics",
        "time": "ExecutionMagics",
        "timeit": "ExecutionMagics",
        "unalias": "OSMagics",
        "unload_ext": "ExtensionMagics",
        "who": "NamespaceMagics",
        "who_ls": "NamespaceMagics",
        "whos": "NamespaceMagics",
        "xdel": "NamespaceMagics",
        "xmode": "BasicMagics"
       }
      },
      "text/plain": [
       "Available line magics:\n",
       "%alias  %alias_magic  %autocall  %automagic  %autosave  %bookmark  %cat  %cd  %clear  %colors  %config  %connect_info  %cp  %debug  %dhist  %dirs  %doctest_mode  %ed  %edit  %env  %gui  %hist  %history  %killbgscripts  %ldir  %less  %lf  %lk  %ll  %load  %load_ext  %loadpy  %logoff  %logon  %logstart  %logstate  %logstop  %ls  %lsmagic  %lx  %macro  %magic  %man  %matplotlib  %mkdir  %more  %mv  %notebook  %page  %pastebin  %pdb  %pdef  %pdoc  %pfile  %pinfo  %pinfo2  %popd  %pprint  %precision  %profile  %prun  %psearch  %psource  %pushd  %pwd  %pycat  %pylab  %qtconsole  %quickref  %recall  %rehashx  %reload_ext  %rep  %rerun  %reset  %reset_selective  %rm  %rmdir  %run  %save  %sc  %set_env  %store  %sx  %system  %tb  %time  %timeit  %unalias  %unload_ext  %who  %who_ls  %whos  %xdel  %xmode\n",
       "\n",
       "Available cell magics:\n",
       "%%!  %%HTML  %%SVG  %%bash  %%capture  %%debug  %%file  %%html  %%javascript  %%js  %%latex  %%markdown  %%perl  %%prun  %%pypy  %%python  %%python2  %%python3  %%ruby  %%script  %%sh  %%svg  %%sx  %%system  %%time  %%timeit  %%writefile\n",
       "\n",
       "Automagic is ON, % prefix IS NOT needed for line magics."
      ]
     },
     "execution_count": 10,
     "metadata": {},
     "output_type": "execute_result"
    }
   ],
   "source": [
    "# liss magics\n",
    "%lsmagic"
   ]
  },
  {
   "cell_type": "code",
   "execution_count": 11,
   "metadata": {},
   "outputs": [
    {
     "name": "stdout",
     "output_type": "stream",
     "text": [
      "total 400\r\n",
      "drwxr-xr-x  8 andresvelasquez  staff    256 Oct 18 15:34 \u001b[34m.\u001b[m\u001b[m/\r\n",
      "drwxr-xr-x  8 andresvelasquez  staff    256 Oct 18 15:33 \u001b[34m..\u001b[m\u001b[m/\r\n",
      "drwxr-xr-x  6 andresvelasquez  staff    192 Oct 18 15:32 \u001b[34m.ipynb_checkpoints\u001b[m\u001b[m/\r\n",
      "-rw-r--r--  1 andresvelasquez  staff  72614 Oct 18 14:15 City-of-Houston-Data.ipynb\r\n",
      "-rw-r--r--  1 andresvelasquez  staff  49703 Oct 16 15:13 Cool-data-example.ipynb\r\n",
      "-rw-r--r--  1 andresvelasquez  staff   6763 Oct 18 15:34 Feature Ing Classwork.ipynb\r\n",
      "-rw-r--r--  1 andresvelasquez  staff  23127 Oct 16 15:13 Trapezoid_Rule.ipynb\r\n",
      "-rw-r--r--  1 andresvelasquez  staff  41985 Oct 16 15:13 excel-screenshot.png\r\n"
     ]
    }
   ],
   "source": [
    "# executing the ls magic, which lists the contents of a given directory, including file permissions\n",
    "# last time of modification, etc.\n",
    "%ls -la"
   ]
  },
  {
   "cell_type": "code",
   "execution_count": 12,
   "metadata": {},
   "outputs": [],
   "source": [
    "%matplotlib inline"
   ]
  },
  {
   "cell_type": "code",
   "execution_count": 13,
   "metadata": {},
   "outputs": [
    {
     "data": {
      "image/png": "[encoded data removed]",
      "text/plain": [
       "<Figure size 432x288 with 1 Axes>"
      ]
     },
     "metadata": {},
     "output_type": "display_data"
    }
   ],
   "source": [
    "# extracts the top 150 observations given the ADT feature value\n",
    "top_150 = my_data.sort_values('ADT', ascending=False).head(150)\n",
    "\n",
    "# use only a subset of features\n",
    "result = top_150[['SEGMENT','STREETNAME','POINT_X','POINT_Y']]\n",
    "N = 150\n",
    "x = result['POINT_X']\n",
    "y = result['POINT_Y']\n",
    "\n",
    "# just give a random numer to assign color to each observation\n",
    "colors = np.random.rand(N)\n",
    "\n",
    "# determine the area of each circle (observation)\n",
    "area = np.pi * (15 * np.random.rand(N)**2)\n",
    "plt.scatter(x, y, s=area, c=colors, alpha=0.5)\n",
    "plt.show()\n"
   ]
  },
  {
   "cell_type": "markdown",
   "metadata": {},
   "source": [
    "### Embedding an external html page in the Jupyter Notebook"
   ]
  },
  {
   "cell_type": "code",
   "execution_count": 14,
   "metadata": {},
   "outputs": [
    {
     "data": {
      "text/html": [
       "<iframe width=\"600\" height=\"600\" src=\"https://traffic.houstontranstar.org/cctv/transtar/\" frameborder=\"0\" allowfullscreen></iframe>"
      ],
      "text/plain": [
       "<IPython.core.display.HTML object>"
      ]
     },
     "metadata": {},
     "output_type": "display_data"
    }
   ],
   "source": [
    "%%HTML\n",
    "<iframe width=\"600\" height=\"600\" src=\"https://traffic.houstontranstar.org/cctv/transtar/\" frameborder=\"0\" allowfullscreen></iframe>"
   ]
  }
 ],
 "metadata": {
  "kernelspec": {
   "display_name": "Python 3",
   "language": "python",
   "name": "python3"
  },
  "language_info": {
   "codemirror_mode": {
    "name": "ipython",
    "version": 3
   },
   "file_extension": ".py",
   "mimetype": "text/x-python",
   "name": "python",
   "nbconvert_exporter": "python",
   "pygments_lexer": "ipython3",
   "version": "3.6.5"
  }
 },
 "nbformat": 4,
 "nbformat_minor": 2
}
